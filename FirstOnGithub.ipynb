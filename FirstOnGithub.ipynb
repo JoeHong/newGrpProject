{
  "nbformat": 4,
  "nbformat_minor": 0,
  "metadata": {
    "colab": {
      "name": "FirstOnGithub.ipynb",
      "provenance": [],
      "authorship_tag": "ABX9TyOt6s5bzLK9+zH9Q5geiO73",
      "include_colab_link": true
    },
    "kernelspec": {
      "name": "python3",
      "display_name": "Python 3"
    },
    "language_info": {
      "name": "python"
    }
  },
  "cells": [
    {
      "cell_type": "markdown",
      "metadata": {
        "id": "view-in-github",
        "colab_type": "text"
      },
      "source": [
        "<a href=\"https://colab.research.google.com/github/JoeHong/newGrpProject/blob/master/FirstOnGithub.ipynb\" target=\"_parent\"><img src=\"https://colab.research.google.com/assets/colab-badge.svg\" alt=\"Open In Colab\"/></a>"
      ]
    },
    {
      "cell_type": "code",
      "metadata": {
        "colab": {
          "base_uri": "https://localhost:8080/"
        },
        "id": "U3E5GfkwngPp",
        "outputId": "bb3adf30-2d2f-4270-cf31-18781bcf9da4"
      },
      "source": [
        "print( \"hello!!\")"
      ],
      "execution_count": 1,
      "outputs": [
        {
          "output_type": "stream",
          "name": "stdout",
          "text": [
            "hello!!\n"
          ]
        }
      ]
    }
  ]
}